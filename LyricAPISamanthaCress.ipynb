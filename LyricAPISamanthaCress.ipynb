{
 "cells": [
  {
   "cell_type": "markdown",
   "metadata": {},
   "source": [
    "github url: https://github.com/SamCress96/620-Mod4"
   ]
  },
  {
   "cell_type": "markdown",
   "metadata": {},
   "source": [
    "# Web Mining and Applied NLP (44-620)\n",
    "\n",
    "## Requests, JSON, and NLP\n",
    "\n",
    "### Student Name: Samantha Cress\n",
    "\n",
    "Perform the tasks described in the Markdown cells below.  When you have completed the assignment make sure your code cells have all been run (and have output beneath them) and ensure you have committed and pushed ALL of your changes to your assignment repository.\n",
    "\n",
    "Make sure you have [installed spaCy and its pipeline](https://spacy.io/usage#quickstart) and [spaCyTextBlob](https://spacy.io/universe/project/spacy-textblob)\n",
    "\n",
    "Every question that requires you to write code will have a code cell underneath it; you may either write your entire solution in that cell or write it in a python file (`.py`), then import and run the appropriate code to answer the question.\n",
    "\n",
    "This assignment requires that you write additional files (either JSON or pickle files); make sure to submit those files in your repository as well."
   ]
  },
  {
   "cell_type": "markdown",
   "metadata": {},
   "source": [
    "## Question 1"
   ]
  },
  {
   "cell_type": "markdown",
   "metadata": {},
   "source": [
    "1. The following code accesses the [lyrics.ovh](https://lyricsovh.docs.apiary.io/#reference/0/lyrics-of-a-song/search) public api, searches for the lyrics of a song, and stores it in a dictionary object.  Write the resulting json to a file (either a JSON file or a pickle file; you choose). You will read in the contents of this file for future questions so we do not need to frequently access the API."
   ]
  },
  {
   "cell_type": "code",
   "execution_count": 1,
   "metadata": {},
   "outputs": [],
   "source": [
    "import spacy"
   ]
  },
  {
   "cell_type": "code",
   "execution_count": 2,
   "metadata": {},
   "outputs": [],
   "source": [
    "from spacytextblob.spacytextblob import SpacyTextBlob"
   ]
  },
  {
   "cell_type": "code",
   "execution_count": 3,
   "metadata": {},
   "outputs": [],
   "source": [
    "import lyricsgenius"
   ]
  },
  {
   "cell_type": "code",
   "execution_count": 7,
   "metadata": {},
   "outputs": [],
   "source": [
    "genius = lyricsgenius.Genius('wtzApfj6US6TqS8QnoTVmapvlnSs0fX-eCyTvU3d78hGr6rydgzgEgMMnhfd3mQ5')"
   ]
  },
  {
   "cell_type": "code",
   "execution_count": 12,
   "metadata": {},
   "outputs": [
    {
     "name": "stdout",
     "output_type": "stream",
     "text": [
      "Searching for songs by The Ranconteurs...\n",
      "\n",
      "Changing artist name to 'The Raconteurs'\n",
      "Song 1: \"Steady, as She Goes\"\n",
      "\n",
      "Reached user-specified song limit (1).\n",
      "Done. Found 1 songs.\n"
     ]
    }
   ],
   "source": [
    "artist = genius.search_artist(\"The Ranconteurs\", max_songs=1)"
   ]
  },
  {
   "cell_type": "code",
   "execution_count": 13,
   "metadata": {},
   "outputs": [
    {
     "name": "stdout",
     "output_type": "stream",
     "text": [
      "Searching for \"Carolina Drama\" by The Raconteurs...\n",
      "Done.\n"
     ]
    }
   ],
   "source": [
    "song = artist.song(\"Carolina Drama\")"
   ]
  },
  {
   "cell_type": "code",
   "execution_count": 14,
   "metadata": {},
   "outputs": [
    {
     "name": "stdout",
     "output_type": "stream",
     "text": [
      "Searching for \"Carolina Drama\" by The Raconteurs...\n",
      "Done.\n",
      "Carolina Drama Lyrics[Intro]\n",
      "I'm not sure if there's a point to this story\n",
      "But I'm going to tell it again\n",
      "So many other people try to tell the tale\n",
      "Not one of them knows the end\n",
      "\n",
      "[Verse 1]\n",
      "It was a junk house in South Carolina\n",
      "Held a boy the age of ten\n",
      "Along with his older brother Billy\n",
      "And their mother and her boyfriend\n",
      "Who was a triple loser with some blue tattoos\n",
      "That were given to him when he was young\n",
      "And a drunk temper that was easy to lose\n",
      "But thank God he didn't own a gun\n",
      "[Verse 2]\n",
      "Well, Billy woke up in the back of his truck\n",
      "Took a minute to open his eyes\n",
      "He took a peep into the back of the house\n",
      "And found himself a big surprise\n",
      "He didn't see his brother, but there was his mother\n",
      "With her red-headed head in her hands\n",
      "While the boyfriend had his gloves wrapped around an old priest\n",
      "Trying to choke the man\n",
      "\n",
      "[Verse 3]\n",
      "Billy looked up from the window to the truck\n",
      "Threw up, and had to struggle to stand\n",
      "He saw that red-necked bastard with a hammer\n",
      "Turn the priest into a shell of a man\n",
      "The priest was putting up the fight of his life\n",
      "But he was old and he was bound to lose\n",
      "The boyfriend hit as hard as he could\n",
      "And knocked the priest right down to his shoes\n",
      "\n",
      "[Verse 4]\n",
      "Well, now Billy knew but never actually met\n",
      "The preacher lying there in the room\n",
      "He heard himself say, \"That must be my daddy\"\n",
      "Then he knew what he was gonna do\n",
      "Billy got up enough courage, took it up\n",
      "And grabbed the first blunt thing he could find\n",
      "It was a cold, glass bottle of milk\n",
      "That got delivered every morning at nine\n",
      "You might also like[Verse 5]\n",
      "Billy broke in and saw the blood on the floor\n",
      "And he turned around and put the lock on the door\n",
      "He looked dead into the boyfriend's eye\n",
      "His mother was a ghost, too upset to cry\n",
      "Then he took a step toward the man on the ground\n",
      "From his mouth trickled out a little audible sound\n",
      "He heard the boyfriend shout, \"Get out!\"\n",
      "And Billy said, \"Not 'til I know what this is all about\"\n",
      "\"Well, this preacher here was attacking your mama\"\n",
      "But Billy knew just who was starting the drama\n",
      "So Billy took dead aim at his face\n",
      "And smashed the bottle on the man who left his dad in disgrace\n",
      "And the white milk dripped down with the blood\n",
      "And the boyfriend fell down dead for good\n",
      "Right next to the preacher who was gasping for air\n",
      "And Billy shouted, \"Daddy, why'd you have to come back here?\"\n",
      "His mama reached behind the sugar and honey\n",
      "And pulled out an envelope filled with money\n",
      "\"Your daddy gave us this,\" she collapsed in tears\n",
      "\"He's been paying all the bills for years\"\n",
      "\"Mama, let's put this body underneath the trees\n",
      "And put daddy in the truck and head to Tennessee\"\n",
      "Just then his little brother came in\n",
      "Holding the milk man's hat and a bottle of gin\n",
      "[Bridge]\n",
      "Singing; la la la la, la la la la, yeah\n",
      "La la la la, la la la la, yeah\n",
      "La la la la, la la la la, yeah\n",
      "La la la, la la la...\n",
      "La la la la, la la la la, yeah\n",
      "La la la la, la la la la, yeah\n",
      "La la la la, la la la la, yeah\n",
      "La la la, la la la...\n",
      "\n",
      "[Outro]\n",
      "Well now you heard another side to the story\n",
      "But you wanna know how it ends?\n",
      "If you must know the truth about the tale\n",
      "Go and ask the milkman5Embed\n"
     ]
    }
   ],
   "source": [
    "song = artist.song(\"Carolina Drama\")\n",
    "print(song.lyrics)"
   ]
  },
  {
   "cell_type": "code",
   "execution_count": 15,
   "metadata": {},
   "outputs": [],
   "source": [
    "import requests\n",
    "import json"
   ]
  },
  {
   "cell_type": "code",
   "execution_count": 16,
   "metadata": {},
   "outputs": [
    {
     "name": "stdout",
     "output_type": "stream",
     "text": [
      "Carolina Drama.json already exists. Overwrite?\n",
      "(y/n): y\n",
      "Wrote Carolina Drama.json.\n"
     ]
    }
   ],
   "source": [
    "artist.save_lyrics('Carolina Drama')"
   ]
  },
  {
   "cell_type": "markdown",
   "metadata": {},
   "source": [
    "## End of Question 1"
   ]
  },
  {
   "cell_type": "markdown",
   "metadata": {},
   "source": [
    "## Question 2"
   ]
  },
  {
   "cell_type": "markdown",
   "metadata": {},
   "source": [
    "2. Read in the contents of your file.  Print the lyrics of the song (not the entire dictionary!) and use spaCyTextBlob to perform sentiment analysis on the lyrics.  Print the polarity score of the sentiment analysis.  Given that the range of the polarity score is `[-1.0,1.0]` which corresponds to how positive or negative the text in question is, do you think the lyrics have a more positive or negative connotaion?  Answer this question in a comment in your code cell."
   ]
  },
  {
   "cell_type": "code",
   "execution_count": 17,
   "metadata": {},
   "outputs": [
    {
     "name": "stdout",
     "output_type": "stream",
     "text": [
      "{'Carolina Drama Lyrics[Intro]\\nI\\'m not sure if there\\'s a point to this story\\nBut I\\'m going to tell it again\\nSo many other people try to tell the tale\\nNot one of them knows the end\\n\\n[Verse 1]\\nIt was a junk house in South Carolina\\nHeld a boy the age of ten\\nAlong with his older brother Billy\\nAnd their mother and her boyfriend\\nWho was a triple loser with some blue tattoos\\nThat were given to him when he was young\\nAnd a drunk temper that was easy to lose\\nBut thank God he didn\\'t own a gun\\n\\n[Verse 2]\\nWell, Billy woke up in the back of his truck\\nTook a minute to open his eyes\\nHe took a peep into the back of the house\\nAnd found himself a big surprise\\nHe didn\\'t see his brother, but there was his mother\\nWith her red-headed head in her hands\\nWhile the boyfriend had his gloves wrapped around an old priest\\nTrying to choke the man\\nYou might also like[Verse 3]\\nBilly looked up from the window to the truck\\nThrew up, and had to struggle to stand\\nHe saw that red-necked bastard with a hammer\\nTurn the priest into a shell of a man\\nThe priest was putting up the fight of his life\\nBut he was old and he was bound to lose\\nThe boyfriend hit as hard as he could\\nAnd knocked the priest right down to his shoes\\n\\n[Verse 4]\\nWell, now Billy knew but never actually met\\nThe preacher lying there in the room\\nHe heard himself say, \"That must be my daddy\"\\nThen he knew what he was gonna do\\nBilly got up enough courage, took it up\\nAnd grabbed the first blunt thing he could find\\nIt was a cold, glass bottle of milk\\nThat got delivered every morning at nine\\n\\n[Verse 5]\\nBilly broke in and saw the blood on the floor\\nAnd he turned around and put the lock on the door\\nHe looked dead into the boyfriend\\'s eye\\nHis mother was a ghost, too upset to cry\\nThen he took a step toward the man on the ground\\nFrom his mouth trickled out a little audible sound\\nHe heard the boyfriend shout, \"Get out!\"\\nAnd Billy said, \"Not \\'til I know what this is all about\"\\n\"Well, this preacher here was attacking your mama\"\\nBut Billy knew just who was starting the drama\\nSo Billy took dead aim at his face\\nAnd smashed the bottle on the man who left his dad in disgrace\\nAnd the white milk dripped down with the blood\\nAnd the boyfriend fell down dead for good\\nRight next to the preacher who was gasping for air\\nAnd Billy shouted, \"Daddy, why\\'d you have to come back here?\"\\nHis mama reached behind the sugar and honey\\nAnd pulled out an envelope filled with money\\n\"Your daddy gave us this,\" she collapsed in tears\\n\"He\\'s been paying all the bills for years\"\\n\"Mama, let\\'s put this body underneath the trees\\nAnd put daddy in the truck and head to Tennessee\"\\nJust then his little brother came in\\nHolding the milk man\\'s hat and a bottle of gin\\n[Bridge]\\nSinging': None, ' la la la la, la la la la, yeah\\nLa la la la, la la la la, yeah\\nLa la la la, la la la la, yeah\\nLa la la, la la la...\\nLa la la la, la la la la, yeah\\nLa la la la, la la la la, yeah\\nLa la la la, la la la la, yeah\\nLa la la, la la la...\\n\\n[Outro]\\nWell now you heard another side to the story\\nBut you wanna know how it ends?\\nIf you must know the truth about the tale\\nGo and ask the milkman5Embed': None}\n"
     ]
    }
   ],
   "source": [
    "import json\n",
    "\n",
    "with open('Carolina Drama.json') as f:\n",
    "   Song_Lyrics = json.load(f)\n",
    "\n",
    "print(Song_Lyrics)"
   ]
  },
  {
   "cell_type": "code",
   "execution_count": 18,
   "metadata": {},
   "outputs": [],
   "source": [
    "from spacytextblob.spacytextblob import SpacyTextBlob"
   ]
  },
  {
   "cell_type": "code",
   "execution_count": 19,
   "metadata": {},
   "outputs": [],
   "source": [
    "from textblob import TextBlob"
   ]
  },
  {
   "cell_type": "code",
   "execution_count": 21,
   "metadata": {},
   "outputs": [
    {
     "name": "stdout",
     "output_type": "stream",
     "text": [
      "Carolina Drama: -0.02207482993197279\n"
     ]
    }
   ],
   "source": [
    "text = open('Carolina Drama.json')\n",
    "text = text.read()\n",
    "blob = TextBlob(text)\n",
    "print('Carolina Drama:', blob.polarity)\n",
    "## Having a negative polarity score I would say that is song has a more negative connotation. Based of the words used this is\n",
    "## true so it makes since that textblob gave it low polarity. If you listen to the song though, one might say it is kind of \n",
    "## happy in the fact that the family escaped the man that was abusing them. "
   ]
  },
  {
   "cell_type": "markdown",
   "metadata": {},
   "source": [
    "## End of Question 2"
   ]
  },
  {
   "cell_type": "markdown",
   "metadata": {},
   "source": [
    "## Question 3"
   ]
  },
  {
   "cell_type": "markdown",
   "metadata": {},
   "source": [
    "3. Write a function that takes an artist, song, and filename, accesses the lyrics.ovh api to get the song lyrics, and writes the results to the specified filename.  Test this function by getting the lyrics to any four songs of your choice and storing them in different files."
   ]
  },
  {
   "cell_type": "code",
   "execution_count": 6,
   "metadata": {},
   "outputs": [
    {
     "name": "stdout",
     "output_type": "stream",
     "text": [
      "Searching for songs by The Ranconteurs...\n",
      "\n",
      "Changing artist name to 'The Raconteurs'\n",
      "Song 1: \"Attention\"\n",
      "Song 2: \"Bang Bang (My Baby Shot Me Down)\"\n",
      "Song 3: \"Blue Veins\"\n",
      "Song 4: \"Bored and Razed\"\n",
      "\n",
      "Reached user-specified song limit (4).\n",
      "Done. Found 4 songs.\n",
      "[Song(id, artist, ...), Song(id, artist, ...), Song(id, artist, ...), Song(id, artist, ...)]\n",
      "Wrote Attention.json.\n",
      "Wrote Bang Bang My Baby Shot Me Down.json.\n",
      "Wrote Blue Veins.json.\n",
      "Wrote Bored and Razed.json.\n"
     ]
    }
   ],
   "source": [
    "artist = genius.search_artist(\"The Ranconteurs\", max_songs=4, sort=\"title\")\n",
    "print(artist.songs)\n",
    "artist.save_lyrics('Attention')\n",
    "artist.save_lyrics(\"Bang Bang (My Baby Shot Me Down)\")\n",
    "artist.save_lyrics(\"Blue Veins\")\n",
    "artist.save_lyrics(\"Bored and Razed\")"
   ]
  },
  {
   "cell_type": "code",
   "execution_count": 7,
   "metadata": {},
   "outputs": [
    {
     "name": "stdout",
     "output_type": "stream",
     "text": [
      "Attention Lyrics[Verse 1]\n",
      "Hey!\n",
      "Now that you have my attention\n",
      "What are you gonna do\n",
      "You might have good intentions\n",
      "But they're not coming through\n",
      "\n",
      "You're very pleased with yourself I see\n",
      "It's like a walk in the park\n",
      "You aren't enlightened by anybody else, 'cause\n",
      "You can see in the dark\n",
      "[Chorus]\n",
      "Got a lock, got a key\n",
      "Got some kind of vice-like grip on me\n",
      "On a leash, by the reigns\n",
      "Got a look that puts me in chains\n",
      "\n",
      "[Verse 2]\n",
      "I tried a subtle suggestion\n",
      "A more direct approach\n",
      "I can't make a connection\n",
      "You're beyond reproach\n",
      "\n",
      "No need for petty excuses\n",
      "No need for thumbing around\n",
      "I don't know what the use is\n",
      "Or what you're throwing down\n",
      "\n",
      "[Chorus]\n",
      "Got a lock, got a key\n",
      "Got some kind of vice-like grip on me\n",
      "On a leash, by the reigns\n",
      "Got a look that puts me in chains\n",
      "\n",
      "[Bridge]\n",
      "Do you love the reflection\n",
      "Do you love the reflection\n",
      "Do you like what you see\n",
      "Do you like the attention\n",
      "Do you like the attention you get from me\n",
      "Hey yeah, hey hey\n",
      "You might also likeNow that you have my attention\n",
      "Got some kind of vice-like grip on me\n",
      "\n",
      "[Outro]\n",
      "Got a lock\n",
      "Got a key1Embed\n",
      "Bang Bang (My Baby Shot Me Down) LyricsI was five and he was six\n",
      "We rode on horses made of sticks\n",
      "He was black and I was white\n",
      "He would always win the fight\n",
      "\n",
      "Bang bang, he shot me down\n",
      "Bang bang, I hit the ground\n",
      "Bang bang, that awful sound\n",
      "Bang bang, my baby shot me down\n",
      "\n",
      "Seasons came and changed the time\n",
      "When I grew up, I called him mine\n",
      "He would always laugh and say\n",
      "Remember when we used to play?\n",
      "Bang bang, I shot you down\n",
      "Bang bang, you hit the ground\n",
      "Bang bang, that awful sound\n",
      "Bang bang, I used to shoot you down\n",
      "\n",
      "Now he's gone, I don't know why\n",
      "And 'til this day, sometimes I cry\n",
      "He didn't even say goodbye\n",
      "He didn't take the time to lie\n",
      "\n",
      "Bang bang, he shot me down\n",
      "Bang bang, I hit the ground\n",
      "Bang bang, that awful sound\n",
      "Bang bang, my baby shot me down...You might also likeEmbed\n",
      "Blue Veins Lyrics[Verse 1]\n",
      "When I was surrounded by the world\n",
      "You were the only one who came\n",
      "And you were the only one astounded\n",
      "Which kept me grounded\n",
      "As the other girls trashed my very name\n",
      "\n",
      "[Chorus 1]\n",
      "Then I looked over just in time to see her smiling back at me\n",
      "And saying everything's okay\n",
      "As long as you're inside my blue veins, your blue veins\n",
      "[Verse 2]\n",
      "Yeah, and the feeling that you gave me\n",
      "No matter what I do or where I go it always will remain\n",
      "And those who would enslave me\n",
      "To get to me must get past you and will have no luck\n",
      "'Cause you'll protect me from all pain\n",
      "It's true, you know but\n",
      "\n",
      "[Chorus 2]\n",
      "The most beautiful, yeah, the most beautiful thing\n",
      "'Cause anything else can't compare\n",
      "Must be the blood that's running through your blue veins\n",
      "\n",
      "[Break]\n",
      "Your blue veins\n",
      "\n",
      "[Verse 3]\n",
      "And I know you won't deceive me\n",
      "Like the rest and there's nothing you need to explain\n",
      "You're always the first one to believe me\n",
      "When I said to you girl, I think it's gonna rain\n",
      "But I could be wrong\n",
      "\n",
      "[Chorus 3 - Outro]\n",
      "Yeah but all of these things, all these things\n",
      "They're all truly nice but ain't nothing\n",
      "Ain't nothing compared to the love\n",
      "That's running through your little blue veins, your blue veinsYou might also like6Embed\n",
      "Bored and Razed Lyrics[Verse 1]\n",
      "Rolling a juke joint box in the corner\n",
      "Trolling myself in the mirror at night\n",
      "Keeping an eye on my grindstone future\n",
      "Staying away from the left and the right\n",
      "\n",
      "[Chorus 1]\n",
      "California bored and razed\n",
      "These days, she's living with another\n",
      "Plastic features, perfect face\n",
      "What a waste and I'm still thinking of her\n",
      "[Verse 2]\n",
      "Laying the cardinal sins on the table\n",
      "Pouring the coffee out on the grounds\n",
      "Changing the losses to wins if I'm able\n",
      "Switching the pitch to an audible sound\n",
      "Running the rounds of the mundane soldier\n",
      "Trading the cards and erasing the names\n",
      "Feeling a pounding, insane, colder\n",
      "Sounding, system, feeding the flames\n",
      "\n",
      "[Chorus 2]\n",
      "Well, I'm Detroit born and raised\n",
      "But these days, I'm living with another\n",
      "You tell me she can be replaced\n",
      "But that's not the case, I'm so lost without her\n",
      "\n",
      "[Verse 3]\n",
      "Rolling a juke joint box in the corner\n",
      "Trolling myself in the mirror at night\n",
      "Keeping an eye on my grindstone future\n",
      "Staying away from the left and the rightYou might also like7Embed\n"
     ]
    }
   ],
   "source": [
    "song = artist.song(\"Attention\")\n",
    "print(song.lyrics)\n",
    "song = artist.song(\"Bang Bang (My Baby Shot Me Down)\")\n",
    "print(song.lyrics)\n",
    "song = artist.song(\"Blue Veins\")\n",
    "print(song.lyrics)\n",
    "song = artist.song(\"Bored and Razed\")\n",
    "print(song.lyrics)"
   ]
  },
  {
   "cell_type": "markdown",
   "metadata": {},
   "source": [
    "## End of Question 3"
   ]
  },
  {
   "cell_type": "markdown",
   "metadata": {},
   "source": [
    "## Question 4"
   ]
  },
  {
   "cell_type": "markdown",
   "metadata": {},
   "source": [
    "4. Write a function that takes the name of a file that contains song lyrics, loads the file, performs sentiment analysis, and returns the polarity score.  Use this function to print the polarity scores (with the name of the song) of the three files you created in question 3.  Does the reported polarity match your understanding of the song's lyrics? Why or why not do you think that might be?  Answer the questions in either a comment in the code cell or a markdown cell under the code cell."
   ]
  },
  {
   "cell_type": "code",
   "execution_count": 22,
   "metadata": {},
   "outputs": [
    {
     "name": "stdout",
     "output_type": "stream",
     "text": [
      "Attention: 0.4416666666666667\n",
      "Bang Bang: -0.2972222222222222\n",
      "Blue Veins: 0.1585227272727273\n",
      "Bored and Razed: -0.07809523809523809\n"
     ]
    }
   ],
   "source": [
    "text = open('Attention.json')\n",
    "text = text.read()\n",
    "blob = TextBlob(text)\n",
    "print ('Attention:', blob.polarity)\n",
    "text = open('Bang Bang.json')\n",
    "text = text.read()\n",
    "blob = TextBlob(text)\n",
    "print('Bang Bang:', blob.polarity)\n",
    "text = open('Blue Veins.json')\n",
    "text = text.read()\n",
    "blob = TextBlob(text)\n",
    "print('Blue Veins:', blob.polarity)\n",
    "text = open('Bored and Razed.json')\n",
    "text = text.read()\n",
    "blob = TextBlob(text)\n",
    "print('Bored and Razed:', blob.polarity)\n"
   ]
  },
  {
   "cell_type": "markdown",
   "metadata": {},
   "source": [
    "I would like to note I had to go in a manually edit the json files I created, as when they are first created they contain a ton of information not relevant to the lyrics of the songs. I would say that the polarity of most of these songs matches my understanding of the lyrics. Attention is a more upbeat song where as bang bang is a slower darker song (bang bang is especially dark).I would say that the polarity calculated is quite accurate. Bored and Razed surpised me a bit, it is upbeat but looking back on the lyrics now it makes sense the polarity is low. The word bored is used a lot so that probably adds to the low polarity. Blue veins also suprised me, the song actually sounds super sad but reading the lyrics is actually about loving someone (I had to go back and look after seeing the polarity score)."
   ]
  },
  {
   "cell_type": "markdown",
   "metadata": {},
   "source": [
    "## End of Question 4"
   ]
  },
  {
   "cell_type": "markdown",
   "metadata": {},
   "source": [
    "github url: https://github.com/SamCress96/620-Mod4"
   ]
  }
 ],
 "metadata": {
  "kernelspec": {
   "display_name": "Python 3 (ipykernel)",
   "language": "python",
   "name": "python3"
  },
  "language_info": {
   "codemirror_mode": {
    "name": "ipython",
    "version": 3
   },
   "file_extension": ".py",
   "mimetype": "text/x-python",
   "name": "python",
   "nbconvert_exporter": "python",
   "pygments_lexer": "ipython3",
   "version": "3.9.12"
  }
 },
 "nbformat": 4,
 "nbformat_minor": 4
}
